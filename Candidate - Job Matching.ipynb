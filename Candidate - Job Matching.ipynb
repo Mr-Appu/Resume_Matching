{
 "cells": [
  {
   "cell_type": "code",
   "execution_count": 1,
   "id": "09fa2c6e",
   "metadata": {},
   "outputs": [
    {
     "name": "stderr",
     "output_type": "stream",
     "text": [
      "[nltk_data] Downloading package stopwords to\n",
      "[nltk_data]     C:\\Users\\Rahulram\\AppData\\Roaming\\nltk_data...\n",
      "[nltk_data]   Package stopwords is already up-to-date!\n"
     ]
    },
    {
     "data": {
      "text/plain": [
       "True"
      ]
     },
     "execution_count": 1,
     "metadata": {},
     "output_type": "execute_result"
    }
   ],
   "source": [
    "import numpy as np\n",
    "import pandas as pd\n",
    "import re\n",
    "import nltk\n",
    "nltk.download('stopwords')"
   ]
  },
  {
   "cell_type": "code",
   "execution_count": 2,
   "id": "b43e8756",
   "metadata": {},
   "outputs": [
    {
     "data": {
      "text/html": [
       "<div>\n",
       "<style scoped>\n",
       "    .dataframe tbody tr th:only-of-type {\n",
       "        vertical-align: middle;\n",
       "    }\n",
       "\n",
       "    .dataframe tbody tr th {\n",
       "        vertical-align: top;\n",
       "    }\n",
       "\n",
       "    .dataframe thead th {\n",
       "        text-align: right;\n",
       "    }\n",
       "</style>\n",
       "<table border=\"1\" class=\"dataframe\">\n",
       "  <thead>\n",
       "    <tr style=\"text-align: right;\">\n",
       "      <th></th>\n",
       "      <th>company_name</th>\n",
       "      <th>job_description</th>\n",
       "      <th>position_title</th>\n",
       "      <th>description_length</th>\n",
       "      <th>model_response</th>\n",
       "    </tr>\n",
       "  </thead>\n",
       "  <tbody>\n",
       "    <tr>\n",
       "      <th>0</th>\n",
       "      <td>HCA Healthcare</td>\n",
       "      <td>registrar\\n\\n\\nhca florida memorial hospital\\n...</td>\n",
       "      <td>Registrar</td>\n",
       "      <td>2223</td>\n",
       "      <td>{\\n  \"Core Responsibilities\": \"Interview pati...</td>\n",
       "    </tr>\n",
       "    <tr>\n",
       "      <th>1</th>\n",
       "      <td>Major League Baseball</td>\n",
       "      <td>want your work displayed across major league b...</td>\n",
       "      <td>Live Content Creator (Seasonal)</td>\n",
       "      <td>2336</td>\n",
       "      <td>{\\n  \"Core Responsibilities\": \"Capture pregam...</td>\n",
       "    </tr>\n",
       "    <tr>\n",
       "      <th>2</th>\n",
       "      <td>Teaneck Public Schools</td>\n",
       "      <td>jobid \\n\\nposition type\\n\\ndistrictart\\n\\ndat...</td>\n",
       "      <td>Art Teacher</td>\n",
       "      <td>625</td>\n",
       "      <td>{\\n  \"Core Responsibilities\": \"Teach art clas...</td>\n",
       "    </tr>\n",
       "    <tr>\n",
       "      <th>3</th>\n",
       "      <td>Volt</td>\n",
       "      <td>volt has partnered with a leading manufacturin...</td>\n",
       "      <td>Talent Acquisition Specialist / Recruiter</td>\n",
       "      <td>2859</td>\n",
       "      <td>{\\n  \"Core Responsibilities\": \"primary recrui...</td>\n",
       "    </tr>\n",
       "    <tr>\n",
       "      <th>4</th>\n",
       "      <td>Lear Corporation</td>\n",
       "      <td>we are hiring a customer service representativ...</td>\n",
       "      <td>Customer Service Representative</td>\n",
       "      <td>1265</td>\n",
       "      <td>{\\n  \"Core Responsibilities\": \"Responding pro...</td>\n",
       "    </tr>\n",
       "  </tbody>\n",
       "</table>\n",
       "</div>"
      ],
      "text/plain": [
       "             company_name                                    job_description  \\\n",
       "0          HCA Healthcare  registrar\\n\\n\\nhca florida memorial hospital\\n...   \n",
       "1   Major League Baseball  want your work displayed across major league b...   \n",
       "2  Teaneck Public Schools   jobid \\n\\nposition type\\n\\ndistrictart\\n\\ndat...   \n",
       "3                    Volt  volt has partnered with a leading manufacturin...   \n",
       "4        Lear Corporation  we are hiring a customer service representativ...   \n",
       "\n",
       "                              position_title  description_length  \\\n",
       "0                                  Registrar                2223   \n",
       "1            Live Content Creator (Seasonal)                2336   \n",
       "2                                Art Teacher                 625   \n",
       "3  Talent Acquisition Specialist / Recruiter                2859   \n",
       "4            Customer Service Representative                1265   \n",
       "\n",
       "                                      model_response  \n",
       "0   {\\n  \"Core Responsibilities\": \"Interview pati...  \n",
       "1   {\\n  \"Core Responsibilities\": \"Capture pregam...  \n",
       "2   {\\n  \"Core Responsibilities\": \"Teach art clas...  \n",
       "3   {\\n  \"Core Responsibilities\": \"primary recrui...  \n",
       "4   {\\n  \"Core Responsibilities\": \"Responding pro...  "
      ]
     },
     "execution_count": 2,
     "metadata": {},
     "output_type": "execute_result"
    }
   ],
   "source": [
    "# Job Description\n",
    "\n",
    "job_df = pd.read_csv(\"Job_Descriptions.csv\")\n",
    "job_df.drop([\"Unnamed: 0\"], axis=1, inplace=True)\n",
    "job_df.head()"
   ]
  },
  {
   "cell_type": "code",
   "execution_count": 3,
   "id": "d34988ca",
   "metadata": {},
   "outputs": [
    {
     "data": {
      "text/html": [
       "<div>\n",
       "<style scoped>\n",
       "    .dataframe tbody tr th:only-of-type {\n",
       "        vertical-align: middle;\n",
       "    }\n",
       "\n",
       "    .dataframe tbody tr th {\n",
       "        vertical-align: top;\n",
       "    }\n",
       "\n",
       "    .dataframe thead th {\n",
       "        text-align: right;\n",
       "    }\n",
       "</style>\n",
       "<table border=\"1\" class=\"dataframe\">\n",
       "  <thead>\n",
       "    <tr style=\"text-align: right;\">\n",
       "      <th></th>\n",
       "      <th>Id</th>\n",
       "      <th>Category</th>\n",
       "      <th>Pages</th>\n",
       "      <th>Data</th>\n",
       "    </tr>\n",
       "  </thead>\n",
       "  <tbody>\n",
       "    <tr>\n",
       "      <th>0</th>\n",
       "      <td>10554236</td>\n",
       "      <td>ACCOUNTANT</td>\n",
       "      <td>5</td>\n",
       "      <td>ACCOUNTANT\\nSummary\\nFinancial Accountant spec...</td>\n",
       "    </tr>\n",
       "    <tr>\n",
       "      <th>1</th>\n",
       "      <td>10674770</td>\n",
       "      <td>ACCOUNTANT</td>\n",
       "      <td>2</td>\n",
       "      <td>STAFF ACCOUNTANT\\nSummary\\nHighly analytical a...</td>\n",
       "    </tr>\n",
       "    <tr>\n",
       "      <th>2</th>\n",
       "      <td>11163645</td>\n",
       "      <td>ACCOUNTANT</td>\n",
       "      <td>2</td>\n",
       "      <td>ACCOUNTANT\\nProfessional Summary\\nTo obtain a ...</td>\n",
       "    </tr>\n",
       "    <tr>\n",
       "      <th>3</th>\n",
       "      <td>11759079</td>\n",
       "      <td>ACCOUNTANT</td>\n",
       "      <td>2</td>\n",
       "      <td>SENIOR ACCOUNTANT\\nExperience\\nCompany Name Ju...</td>\n",
       "    </tr>\n",
       "    <tr>\n",
       "      <th>4</th>\n",
       "      <td>12065211</td>\n",
       "      <td>ACCOUNTANT</td>\n",
       "      <td>2</td>\n",
       "      <td>SENIOR ACCOUNTANT\\nProfessional Summary\\nSenio...</td>\n",
       "    </tr>\n",
       "  </tbody>\n",
       "</table>\n",
       "</div>"
      ],
      "text/plain": [
       "         Id    Category  Pages  \\\n",
       "0  10554236  ACCOUNTANT      5   \n",
       "1  10674770  ACCOUNTANT      2   \n",
       "2  11163645  ACCOUNTANT      2   \n",
       "3  11759079  ACCOUNTANT      2   \n",
       "4  12065211  ACCOUNTANT      2   \n",
       "\n",
       "                                                Data  \n",
       "0  ACCOUNTANT\\nSummary\\nFinancial Accountant spec...  \n",
       "1  STAFF ACCOUNTANT\\nSummary\\nHighly analytical a...  \n",
       "2  ACCOUNTANT\\nProfessional Summary\\nTo obtain a ...  \n",
       "3  SENIOR ACCOUNTANT\\nExperience\\nCompany Name Ju...  \n",
       "4  SENIOR ACCOUNTANT\\nProfessional Summary\\nSenio...  "
      ]
     },
     "execution_count": 3,
     "metadata": {},
     "output_type": "execute_result"
    }
   ],
   "source": [
    "# Resume / Candidate\n",
    "\n",
    "resume_df = pd.read_csv(\"Extracted_Data.csv\")\n",
    "resume_df.rename(columns={\"Unnamed: 0\" : \"Id\"}, inplace=True)\n",
    "resume_df.head()"
   ]
  },
  {
   "cell_type": "markdown",
   "id": "3297df7b",
   "metadata": {},
   "source": [
    "### Pre-Processing on Resume DataFrame "
   ]
  },
  {
   "cell_type": "code",
   "execution_count": 4,
   "id": "66eeb01d",
   "metadata": {},
   "outputs": [
    {
     "name": "stdout",
     "output_type": "stream",
     "text": [
      "No of Duplicate Records : 0\n",
      "No of Duplicate Data : 2\n",
      "Testing - No of Duplicate Data : 0\n"
     ]
    }
   ],
   "source": [
    "# Drop Duplicates\n",
    "\n",
    "print(\"No of Duplicate Records :\", resume_df.duplicated().sum())\n",
    "print(\"No of Duplicate Data :\", resume_df[\"Data\"].duplicated().sum())\n",
    "\n",
    "# Drop Duplicates \n",
    "resume_df = resume_df[resume_df[\"Data\"].duplicated() == False]\n",
    "\n",
    "# Testing\n",
    "print(\"Testing - No of Duplicate Data :\", resume_df[\"Data\"].duplicated().sum())"
   ]
  },
  {
   "cell_type": "code",
   "execution_count": 5,
   "id": "37596575",
   "metadata": {},
   "outputs": [
    {
     "name": "stdout",
     "output_type": "stream",
     "text": [
      "NA Values : \n",
      "Id          0\n",
      "Category    0\n",
      "Pages       0\n",
      "Data        1\n",
      "dtype: int64\n",
      "\n",
      "NA Record\n",
      "           Id              Category  Pages Data\n",
      "802  12632728  BUSINESS-DEVELOPMENT      1  NaN\n",
      "\n",
      "Testing - NA Values : 0\n"
     ]
    }
   ],
   "source": [
    "# NA Values\n",
    "\n",
    "print(\"NA Values : \")\n",
    "print(resume_df.isna().sum(), end=\"\\n\\n\")\n",
    "\n",
    "print(\"NA Record\")\n",
    "print(resume_df[resume_df[\"Data\"].isna()], end=\"\\n\\n\")\n",
    "\n",
    "# Drop Na Row\n",
    "resume_df.dropna(inplace=True)\n",
    "\n",
    "# Testing \n",
    "print(\"Testing - NA Values :\", resume_df.isna().any().sum())"
   ]
  },
  {
   "cell_type": "markdown",
   "id": "6d02911c",
   "metadata": {},
   "source": [
    "#### Pre-processing Text\n",
    "\n",
    "The `pre_process_text` function performs the following tasks:\n",
    "\n",
    "- Removes hyperlinks and weblinks.\n",
    "- Removes punctuation.\n",
    "- Removes stop words.\n",
    "\n",
    "**NOTE**\n",
    "- I chose not to lemmatize the text as it might remove action words from the resume, which are equally important. \n",
    "- However, for extensive research on a resume, it's equally important to consider hyperlinks and weblinks.\n"
   ]
  },
  {
   "cell_type": "code",
   "execution_count": 6,
   "id": "3a67577d",
   "metadata": {},
   "outputs": [],
   "source": [
    "from nltk.corpus import stopwords\n",
    "from nltk import sent_tokenize, word_tokenize\n",
    "\n",
    "def pre_process_text(string):\n",
    "    \n",
    "    # Remove any Links [HyperLink / WebLink] and Punctuations \n",
    "    string = re.sub(r'https?://\\S+|www\\.\\S+', \"\", string)\n",
    "    string = re.sub(r'[!\\\"#$%&\\'()*+,-./:;<=>?@[\\\\\\]]', \"\", string) \n",
    "    \n",
    "    # Convert string to Lowercase\n",
    "    string = string.lower()\n",
    "    \n",
    "    processed_string = \"\"\n",
    "    \n",
    "    # Removing Stopwords\n",
    "    for sent in sent_tokenize(string):\n",
    "        sub_string = \" \".join([word for word in word_tokenize(sent) if word not in stopwords.words('english')])\n",
    "        processed_string += sub_string + \" \"\n",
    "        \n",
    "    return processed_string"
   ]
  },
  {
   "cell_type": "code",
   "execution_count": 7,
   "id": "6c90ab8e",
   "metadata": {},
   "outputs": [
    {
     "name": "stdout",
     "output_type": "stream",
     "text": [
      "CPU times: total: 3min 10s\n",
      "Wall time: 4min 45s\n"
     ]
    }
   ],
   "source": [
    "%%time\n",
    "\n",
    "resume_df[\"Processed_Data\"] = resume_df[\"Data\"].apply(pre_process_text)\n",
    "resume_df.to_csv(\"Processed_Data.csv\")"
   ]
  },
  {
   "cell_type": "markdown",
   "id": "be07dbde",
   "metadata": {},
   "source": [
    "### Pre-Processing on Job Description DataFrame"
   ]
  },
  {
   "cell_type": "code",
   "execution_count": 8,
   "id": "abeb7d7e",
   "metadata": {},
   "outputs": [
    {
     "name": "stdout",
     "output_type": "stream",
     "text": [
      "Columns : ['company_name' 'job_description' 'position_title' 'model_response']\n",
      "No of NULL Record : 0\n",
      "No of Duplicate Record : 0\n"
     ]
    }
   ],
   "source": [
    "# Drop description_length column\n",
    "job_df.drop([\"description_length\"], axis=1, inplace=True)\n",
    "print(\"Columns :\", job_df.columns.values)\n",
    "\n",
    "\n",
    "print(\"No of NULL Record :\", job_df.isna().any().sum())\n",
    "print(\"No of Duplicate Record :\", job_df.duplicated().sum())"
   ]
  },
  {
   "cell_type": "code",
   "execution_count": 9,
   "id": "c0d8fbdb",
   "metadata": {},
   "outputs": [],
   "source": [
    "# For My Understanding\n",
    "\n",
    "# for i in range(10):\n",
    "#     print(job_df[\"position_title\"][i])\n",
    "#     print(job_df[\"job_description\"][i])\n",
    "#     print(job_df[\"model_response\"][i])"
   ]
  },
  {
   "cell_type": "markdown",
   "id": "5763e818",
   "metadata": {},
   "source": [
    "#### Note\n",
    "\n",
    "- From my initial understanding of the job description dataset, it seems sufficient to focus on the `model_response` rather than the job description. \n",
    "- Additionally, I need to rework the preprocessing of the resume dataset. Instead of transforming the entire resume into features, I should extract only the **skills**, **education**, **responsibilities**, and **experience**.\n"
   ]
  },
  {
   "cell_type": "code",
   "execution_count": 10,
   "id": "08d6a876",
   "metadata": {},
   "outputs": [],
   "source": [
    "# Job Description Feature Extraction\n",
    "\n",
    "job_df[\"Feature\"] = [\" \".join(re.findall(r'\"(.*?)\"', feature.strip())[:8]) for feature in job_df[\"model_response\"]]\n",
    "job_df[\"Processed_Feature\"] = job_df[\"Feature\"].apply(pre_process_text)"
   ]
  },
  {
   "cell_type": "markdown",
   "id": "295dcafc",
   "metadata": {},
   "source": [
    "#### Pre-processing Resume Data\n",
    "\n",
    "The `resume_data_feature_extraction` function performs the following tasks:\n",
    "- Removes hyperlinks and weblinks.\n",
    "- Removes stop words.\n",
    "- Extracts data containing keywords **skills**, **education**, **responsibilities**, and **experience**."
   ]
  },
  {
   "cell_type": "code",
   "execution_count": 11,
   "id": "0f424dd0",
   "metadata": {},
   "outputs": [],
   "source": [
    "# Re Work on resume Data\n",
    "\n",
    "def resume_data_feature_extraction(string):\n",
    "    \n",
    "    # Remove any Links [HyperLink / WebLink]\n",
    "    string = re.sub(r'https?://\\S+|www\\.\\S+', \"\", string) \n",
    "    \n",
    "    # Convert string to Lowercase\n",
    "    string = string.lower()\n",
    "    \n",
    "    mp = {\n",
    "          \"responsibilities\" : [],\n",
    "          \"skill\" : [],\n",
    "          \"education\" : [],\n",
    "          \"experience\" : [],\n",
    "          \"highlights\" :[],\n",
    "          \"summary\" :[],\n",
    "         }\n",
    "    \n",
    "    for sent in sent_tokenize(string):\n",
    "        for req in mp: # REQ -> responsibilities, skill, education, experience, highlights, summary\n",
    "            if(req in sent): \n",
    "                sub_string = \" \".join([word for word in word_tokenize(sent) if word not in stopwords.words('english')]) # Removing Stopwords\n",
    "                mp[req].append(sub_string)\n",
    "                break # To avoid Duplicates\n",
    "    \n",
    "    return_string = \"\"\n",
    "    for req in mp:\n",
    "        if(len(mp[req]) == 0): # If any of the columns in empty, skip it\n",
    "            continue\n",
    "        return_string += \" \" + req + \" \" + \" \".join(mp[req])\n",
    "    \n",
    "    return_string = re.sub(r'[!\\\"#$%&\\'()*+,-./:;<=>?@[\\\\\\]]', \"\", return_string) \n",
    "    \n",
    "    return return_string"
   ]
  },
  {
   "cell_type": "code",
   "execution_count": 12,
   "id": "50f278fc",
   "metadata": {},
   "outputs": [
    {
     "name": "stdout",
     "output_type": "stream",
     "text": [
      "CPU times: total: 1min 23s\n",
      "Wall time: 2min 7s\n"
     ]
    }
   ],
   "source": [
    "%%time\n",
    "\n",
    "resume_df[\"Processed_Feature\"] = resume_df[\"Data\"].apply(resume_data_feature_extraction)\n",
    "resume_df.to_csv(\"Processed_Data.csv\")"
   ]
  },
  {
   "cell_type": "code",
   "execution_count": 13,
   "id": "965e092e",
   "metadata": {},
   "outputs": [
    {
     "data": {
      "text/html": [
       "<div>\n",
       "<style scoped>\n",
       "    .dataframe tbody tr th:only-of-type {\n",
       "        vertical-align: middle;\n",
       "    }\n",
       "\n",
       "    .dataframe tbody tr th {\n",
       "        vertical-align: top;\n",
       "    }\n",
       "\n",
       "    .dataframe thead th {\n",
       "        text-align: right;\n",
       "    }\n",
       "</style>\n",
       "<table border=\"1\" class=\"dataframe\">\n",
       "  <thead>\n",
       "    <tr style=\"text-align: right;\">\n",
       "      <th></th>\n",
       "      <th>Id</th>\n",
       "      <th>Category</th>\n",
       "      <th>Pages</th>\n",
       "      <th>Data</th>\n",
       "      <th>Processed_Data</th>\n",
       "      <th>Processed_Feature</th>\n",
       "    </tr>\n",
       "  </thead>\n",
       "  <tbody>\n",
       "    <tr>\n",
       "      <th>0</th>\n",
       "      <td>10554236</td>\n",
       "      <td>ACCOUNTANT</td>\n",
       "      <td>5</td>\n",
       "      <td>ACCOUNTANT\\nSummary\\nFinancial Accountant spec...</td>\n",
       "      <td>accountant summary financial accountant specia...</td>\n",
       "      <td>responsibilities briefing identified team mem...</td>\n",
       "    </tr>\n",
       "    <tr>\n",
       "      <th>1</th>\n",
       "      <td>10674770</td>\n",
       "      <td>ACCOUNTANT</td>\n",
       "      <td>2</td>\n",
       "      <td>STAFF ACCOUNTANT\\nSummary\\nHighly analytical a...</td>\n",
       "      <td>staff accountant summary highly analytical det...</td>\n",
       "      <td>skill excel problem solving strategic plannin...</td>\n",
       "    </tr>\n",
       "    <tr>\n",
       "      <th>2</th>\n",
       "      <td>11163645</td>\n",
       "      <td>ACCOUNTANT</td>\n",
       "      <td>2</td>\n",
       "      <td>ACCOUNTANT\\nProfessional Summary\\nTo obtain a ...</td>\n",
       "      <td>accountant professional summary obtain positio...</td>\n",
       "      <td>skill accountant professional summary obtain ...</td>\n",
       "    </tr>\n",
       "    <tr>\n",
       "      <th>3</th>\n",
       "      <td>11759079</td>\n",
       "      <td>ACCOUNTANT</td>\n",
       "      <td>2</td>\n",
       "      <td>SENIOR ACCOUNTANT\\nExperience\\nCompany Name Ju...</td>\n",
       "      <td>senior accountant experience company name june...</td>\n",
       "      <td>skill developed writing skills drafting forty...</td>\n",
       "    </tr>\n",
       "    <tr>\n",
       "      <th>4</th>\n",
       "      <td>12065211</td>\n",
       "      <td>ACCOUNTANT</td>\n",
       "      <td>2</td>\n",
       "      <td>SENIOR ACCOUNTANT\\nProfessional Summary\\nSenio...</td>\n",
       "      <td>senior accountant professional summary senior ...</td>\n",
       "      <td>skill senior accountant professional summary ...</td>\n",
       "    </tr>\n",
       "  </tbody>\n",
       "</table>\n",
       "</div>"
      ],
      "text/plain": [
       "         Id    Category  Pages  \\\n",
       "0  10554236  ACCOUNTANT      5   \n",
       "1  10674770  ACCOUNTANT      2   \n",
       "2  11163645  ACCOUNTANT      2   \n",
       "3  11759079  ACCOUNTANT      2   \n",
       "4  12065211  ACCOUNTANT      2   \n",
       "\n",
       "                                                Data  \\\n",
       "0  ACCOUNTANT\\nSummary\\nFinancial Accountant spec...   \n",
       "1  STAFF ACCOUNTANT\\nSummary\\nHighly analytical a...   \n",
       "2  ACCOUNTANT\\nProfessional Summary\\nTo obtain a ...   \n",
       "3  SENIOR ACCOUNTANT\\nExperience\\nCompany Name Ju...   \n",
       "4  SENIOR ACCOUNTANT\\nProfessional Summary\\nSenio...   \n",
       "\n",
       "                                      Processed_Data  \\\n",
       "0  accountant summary financial accountant specia...   \n",
       "1  staff accountant summary highly analytical det...   \n",
       "2  accountant professional summary obtain positio...   \n",
       "3  senior accountant experience company name june...   \n",
       "4  senior accountant professional summary senior ...   \n",
       "\n",
       "                                   Processed_Feature  \n",
       "0   responsibilities briefing identified team mem...  \n",
       "1   skill excel problem solving strategic plannin...  \n",
       "2   skill accountant professional summary obtain ...  \n",
       "3   skill developed writing skills drafting forty...  \n",
       "4   skill senior accountant professional summary ...  "
      ]
     },
     "execution_count": 13,
     "metadata": {},
     "output_type": "execute_result"
    }
   ],
   "source": [
    "# Read DataFrame\n",
    "\n",
    "resume_df = pd.read_csv(\"Processed_Data.csv\")\n",
    "resume_df.drop([\"Unnamed: 0\"], axis=1, inplace=True)\n",
    "resume_df.head()"
   ]
  },
  {
   "cell_type": "markdown",
   "id": "3147d841",
   "metadata": {},
   "source": [
    "#### Difference Between `pre_process_text` and `resume_data_feature_extraction` Functions"
   ]
  },
  {
   "cell_type": "code",
   "execution_count": 14,
   "id": "8a46609e",
   "metadata": {},
   "outputs": [
    {
     "name": "stdout",
     "output_type": "stream",
     "text": [
      "Length of Data : 6066\n",
      "Length of Data after pre_process_text : 5143\n",
      "Length of Data after resume_data_feature_extraction : 710\n",
      "\n",
      "Length of Data : 4797\n",
      "Length of Data after pre_process_text : 4171\n",
      "Length of Data after resume_data_feature_extraction : 1992\n",
      "\n",
      "Length of Data : 7362\n",
      "Length of Data after pre_process_text : 6357\n",
      "Length of Data after resume_data_feature_extraction : 2995\n",
      "\n",
      "Length of Data : 5306\n",
      "Length of Data after pre_process_text : 4740\n",
      "Length of Data after resume_data_feature_extraction : 2843\n",
      "\n",
      "Length of Data : 5179\n",
      "Length of Data after pre_process_text : 4585\n",
      "Length of Data after resume_data_feature_extraction : 1686\n",
      "\n"
     ]
    }
   ],
   "source": [
    "for index in [10, 100, 200, 1000, 2000]:\n",
    "    print(\"Length of Data :\", len(resume_df[\"Data\"][index]))\n",
    "    print(\"Length of Data after pre_process_text :\", len(resume_df[\"Processed_Data\"][index]))\n",
    "    print(\"Length of Data after resume_data_feature_extraction :\", len(resume_df[\"Processed_Feature\"][index]), end=\"\\n\\n\")"
   ]
  },
  {
   "cell_type": "code",
   "execution_count": 15,
   "id": "f15f9854",
   "metadata": {},
   "outputs": [
    {
     "name": "stdout",
     "output_type": "stream",
     "text": [
      "Processed_Data : \n",
      "senior accountant summary 8 years accomplished experience field accounting team organizational training major global public corporation exceptionally fast efficient organized knowledge accounting functions gl pl bs budgets forecasting variance analysis trend analysis financial reporting reconciliations work papers journal entries accruals ap ar experience gaap statutory accounting monthly yearend closing processes highlights oracle financial peoplesoft microsoft dynamics nav microsoft office suite outlook lotus notes experience senior accountant 062015 current company name city state prepare examine analyze accounting records financial statements financial reports assess accuracy completeness conformance reporting procedural standards process prepare maintain reporting related inventory associated recurring andor ad hoc journal entries account analysis financial reporting account reconciliation system interface analysis cogs rebates adjustments revenues accordance established general accounting policies procedures summarize vendor contracts andor annual contract amendments extract financial pertinent information determine rebate configuration monthlyquarterly invoicing create review revenue loaders rebate billing invoices track payment status prepare communications memos presentation charts process documentation coordinate departments assembling information reporting results maintain sox controls departmental documentation train new staff review work less experienced staff cross training team members accounting functions accountant ii 092013 052014 company name city state completed assigned reconciliations accurately completely time frame required corporate policies prepared ensured accuracy integrity accounting transactional records ensure proper financial reporting worked internal financial reporting personnel support timely accurate completion monthly quarterly annual internal external reporting processed maintained assigned ad hoc recurring journal entries timely accurate manner ensured interfaces ancillary systems general ledger processed timely accurately affected assigned general ledger accounts complete accurate properly classified independently reviewed revenue expense accounts accuracy determined proper accruals nicole morgan resume page 2 2 independently provided prompt courteous professional customer service internal external users information provided accounting department worked external audit firm support timely completion audits compliance reporting assisted departments compiling information reporting results variances accountant ii 122008 012013 company name city state assisted monthyear end close preparation associated journal entries performed detailed analysis general ledger conjunction month end close responsible preparation foreign branch balance sheets income statements fixed assets schedules reconciliations verified analyzed monthly quarterly underwriting activity reported foreign branches subsidiaries affiliates pools syndicates recognized investigated unusual results utilizing available resources effectively communicated findings management analyzed recorded foreign branch results home office books interacting areas ensure accuracy journal entries reconciled ledger balances resulting underwriting activity account settlements profit loss foreign exchange subledger general ledger insure accurate figures monthly subledger close cash settlements wire transfers electronic receipts check deposits ach payments check requests associate 102006 062008 company name city state developed coordinated planned expense budgets forecasts headcount monitoring tracking consolidated analyzed trends expenses compensation planning within agency division successfully ended year within 2 variance forecast prepared updated monitored monthly financial analysis summaries budget templates monthly financial management presentations including actual projected results coordinated section managers prepare budget uploads monthly budget versus actual meetings prepared recurring adhoc journal entries provided ad hoc analysis reporting management needed identifying spending trends analyzing variances purposes requested education masters science accounting kean university state accounting bachelor science management science management science skills account reconciliation accounting general accounting accruals ad agency balance sheets billing budgets budget charts compliance reporting contracts customer service documentation financial financial analysis financial management financial reports financial reporting financial statements fixed assets foreign exchange frame general ledger general ledger accounts home office inventory invoicing ledger lotus notes meetings microsoft dynamics microsoft office suite outlook month end close oracle financial peoplesoft personnel policies presentations profit loss reporting settlements underwriting \n",
      "\n",
      "Processed_Feature : \n",
      " skill education masters science  accounting kean university state accounting bachelor science  management science management science skills account reconciliation  accounting  general accounting  accruals  ad  agency  balance sheets  billing  budgets  budget  charts  compliance reporting  contracts  customer service  documentation  financial  financial analysis  financial management  financial reports  financial reporting  financial statements  fixed assets  foreign exchange  frame  general ledger  general ledger accounts  home office  inventory  invoicing  ledger  lotus notes  meetings  microsoft dynamics  microsoft office suite  outlook  month end close  oracle financial  peoplesoft  personnel  policies  presentations  profit loss  reporting  settlements  underwriting experience senior accountant summary 8 years accomplished experience field accounting team organizational training major global public corporation exceptionally fast  efficient organized knowledge accounting functions  gl  pl  bs  budgets  forecasting  variance analysis  trend analysis  financial reporting  reconciliations  work papers  journal entries  accruals  ap  ar experience gaap statutory accounting monthly yearend closing processes highlights oracle financial  peoplesoft  microsoft dynamics nav  microsoft office suite  outlook  lotus notes experience senior accountant 062015 current company name city  state prepare  examine  analyze accounting records  financial statements  financial reports assess accuracy  completeness  conformance reporting procedural standards  process  prepare maintain reporting related inventory  associated recurring andor ad hoc journal entries  account analysis  financial reporting  account reconciliation system interface analysis   cogs  rebates  adjustments  revenues  accordance established general accounting policies procedures summarize vendor contracts andor annual contract amendments extract financial pertinent information determine rebate configuration monthlyquarterly invoicing create  review revenue loaders  rebate  billing invoices track payment status prepare communications memos  presentation charts  process documentation  coordinate departments assembling information reporting results maintain sox controls departmental documentation train new staff review work less experienced staff cross training team members accounting functions \n",
      "\n"
     ]
    }
   ],
   "source": [
    "index = 69\n",
    "print(\"Processed_Data : \", resume_df[\"Processed_Data\"][index], end=\"\\n\\n\", sep=\"\\n\")\n",
    "print(\"Processed_Feature : \", resume_df[\"Processed_Feature\"][index], end=\"\\n\\n\", sep=\"\\n\")"
   ]
  },
  {
   "cell_type": "markdown",
   "id": "0c792da4",
   "metadata": {},
   "source": [
    "#### It's evident that `resume_data_feature_extraction` nearly reduced more than half of the data extracted by `pre_process_text`.\n"
   ]
  },
  {
   "cell_type": "markdown",
   "id": "40dd4c9c",
   "metadata": {},
   "source": [
    "## Model Building "
   ]
  },
  {
   "cell_type": "markdown",
   "id": "7b254a9f",
   "metadata": {},
   "source": [
    "### Reference\n",
    "- https://www.pinecone.io/learn/semantic-search/\n",
    "\n",
    "### SentenceTransformers Documentation\n",
    "- https://www.sbert.net/index.html"
   ]
  },
  {
   "cell_type": "code",
   "execution_count": 16,
   "id": "bfae3a15",
   "metadata": {},
   "outputs": [],
   "source": [
    "# ! pip install -U sentence-transformers"
   ]
  },
  {
   "cell_type": "code",
   "execution_count": 17,
   "id": "6c631e5b",
   "metadata": {
    "scrolled": true
   },
   "outputs": [
    {
     "name": "stdout",
     "output_type": "stream",
     "text": [
      "Max Length of Resume Processed_Feature : 20336\n",
      "Max Length of Job Processed_Feature :  2000\n",
      "\n",
      "Max Words of Resume Processed_Feature : 2414\n",
      "Max Words of Job Processed_Feature :  246\n",
      "\n",
      "Mean No of Words in Resume Processed_Feature : 243.53123740427247\n",
      "Mean No of Words in Job Processed_Feature :  99.4\n",
      "\n"
     ]
    }
   ],
   "source": [
    "print(\"Max Length of Resume Processed_Feature :\", max(resume_df[\"Processed_Feature\"].apply(lambda x : len(x))))\n",
    "print(\"Max Length of Job Processed_Feature : \", max(job_df[\"Processed_Feature\"].apply(lambda x : len(x))), end=\"\\n\\n\")\n",
    "\n",
    "print(\"Max Words of Resume Processed_Feature :\", max(resume_df[\"Processed_Feature\"].apply(lambda x : len(x.split()))))\n",
    "print(\"Max Words of Job Processed_Feature : \", max(job_df[\"Processed_Feature\"].apply(lambda x : len(x.split()))), end=\"\\n\\n\")\n",
    "\n",
    "print(\"Mean No of Words in Resume Processed_Feature :\", np.mean(resume_df[\"Processed_Feature\"].apply(lambda x : len(x.split()))))\n",
    "print(\"Mean No of Words in Job Processed_Feature : \", np.mean(job_df[\"Processed_Feature\"].apply(lambda x : len(x.split()))), end=\"\\n\\n\")"
   ]
  },
  {
   "cell_type": "markdown",
   "id": "dbe2f34d",
   "metadata": {},
   "source": [
    "- Since the mean number of words in a resume is around 240, and the maximum is 2414, it's better to set the max_seq_length to 512."
   ]
  },
  {
   "cell_type": "markdown",
   "id": "b8f6bc24",
   "metadata": {},
   "source": [
    "### Model : gtr-t5-large\n",
    "\n",
    "* https://huggingface.co/sentence-transformers/gtr-t5-large"
   ]
  },
  {
   "cell_type": "code",
   "execution_count": 18,
   "id": "cc56d60b",
   "metadata": {},
   "outputs": [],
   "source": [
    "# New DataFrame\n",
    "\n",
    "resume = resume_df[[\"Id\", \"Category\", \"Processed_Feature\"]]\n",
    "job = job_df[[\"company_name\", \"position_title\", \"Processed_Feature\"]]"
   ]
  },
  {
   "cell_type": "code",
   "execution_count": 19,
   "id": "d360e200",
   "metadata": {},
   "outputs": [
    {
     "name": "stdout",
     "output_type": "stream",
     "text": [
      "SentenceTransformer(\n",
      "  (0): Transformer({'max_seq_length': 512, 'do_lower_case': False}) with Transformer model: T5EncoderModel \n",
      "  (1): Pooling({'word_embedding_dimension': 768, 'pooling_mode_cls_token': False, 'pooling_mode_mean_tokens': True, 'pooling_mode_max_tokens': False, 'pooling_mode_mean_sqrt_len_tokens': False})\n",
      "  (2): Dense({'in_features': 1024, 'out_features': 768, 'bias': False, 'activation_function': 'torch.nn.modules.linear.Identity'})\n",
      "  (3): Normalize()\n",
      ")\n"
     ]
    }
   ],
   "source": [
    "from sentence_transformers import SentenceTransformer\n",
    "\n",
    "model  = SentenceTransformer(\"gtr-t5-large\")\n",
    "model.max_seq_length = 512\n",
    "print(model)"
   ]
  },
  {
   "cell_type": "code",
   "execution_count": 20,
   "id": "34c249af",
   "metadata": {
    "scrolled": true
   },
   "outputs": [
    {
     "name": "stderr",
     "output_type": "stream",
     "text": [
      "<timed exec>:3: SettingWithCopyWarning: \n",
      "A value is trying to be set on a copy of a slice from a DataFrame.\n",
      "Try using .loc[row_indexer,col_indexer] = value instead\n",
      "\n",
      "See the caveats in the documentation: https://pandas.pydata.org/pandas-docs/stable/user_guide/indexing.html#returning-a-view-versus-a-copy\n"
     ]
    },
    {
     "name": "stdout",
     "output_type": "stream",
     "text": [
      "CPU times: total: 1min 54s\n",
      "Wall time: 2min 48s\n"
     ]
    },
    {
     "name": "stderr",
     "output_type": "stream",
     "text": [
      "<timed exec>:4: SettingWithCopyWarning: \n",
      "A value is trying to be set on a copy of a slice from a DataFrame.\n",
      "Try using .loc[row_indexer,col_indexer] = value instead\n",
      "\n",
      "See the caveats in the documentation: https://pandas.pydata.org/pandas-docs/stable/user_guide/indexing.html#returning-a-view-versus-a-copy\n"
     ]
    }
   ],
   "source": [
    "%%time\n",
    "# Apply Embeddings\n",
    "\n",
    "resume[\"Embedding\"] = resume[\"Processed_Feature\"].apply(lambda x : model.encode(x).reshape(1, -1))\n",
    "job[\"Embedding\"] = job[\"Processed_Feature\"].apply(lambda x : model.encode(x).reshape(1, -1))"
   ]
  },
  {
   "cell_type": "code",
   "execution_count": 21,
   "id": "84e2ff06",
   "metadata": {},
   "outputs": [
    {
     "name": "stdout",
     "output_type": "stream",
     "text": [
      "Company : HCA Healthcare\n",
      "Position : Registrar\n",
      "\n",
      "  Category       Id  Similarity\n",
      "CONSULTANT 18856440    0.760448\n",
      "  ADVOCATE 23427369    0.759660\n",
      "  ADVOCATE 22259475    0.756234\n",
      "  ADVOCATE 28206098    0.752234\n",
      "HEALTHCARE 45907524    0.751526\n",
      "\n",
      "Company : Major League Baseball\n",
      "Position : Live Content Creator (Seasonal)\n",
      "\n",
      "        Category       Id  Similarity\n",
      "PUBLIC-RELATIONS 24559558    0.779076\n",
      "   DIGITAL-MEDIA 70196518    0.774543\n",
      "   DIGITAL-MEDIA 11270462    0.766067\n",
      "   DIGITAL-MEDIA 16536141    0.763968\n",
      "PUBLIC-RELATIONS 16620172    0.759614\n",
      "\n",
      "Company : Teaneck Public Schools\n",
      "Position : Art Teacher\n",
      "\n",
      "Category       Id  Similarity\n",
      "    ARTS 12386670    0.760832\n",
      "    ARTS 28629430    0.743643\n",
      "    ARTS 23752500    0.732657\n",
      " APPAREL 14413257    0.731279\n",
      " TEACHER 35421497    0.727940\n",
      "\n",
      "Company : Volt\n",
      "Position : Talent Acquisition Specialist / Recruiter\n",
      "\n",
      "        Category       Id  Similarity\n",
      "PUBLIC-RELATIONS 13727873    0.854944\n",
      "              HR 30862904    0.848326\n",
      "              HR 73077810    0.847029\n",
      "              HR 25676643    0.839240\n",
      "              HR 11480899    0.838585\n",
      "\n",
      "Company : Lear Corporation\n",
      "Position : Customer Service Representative\n",
      "\n",
      "  Category       Id  Similarity\n",
      "HEALTHCARE 34594746    0.836513\n",
      "AUTOMOBILE 18932512    0.821714\n",
      "AUTOMOBILE 32069695    0.814141\n",
      "   FITNESS 62870550    0.811432\n",
      "  ADVOCATE 20400279    0.806718\n",
      "\n",
      "Company : Sunrise Systems Inc\n",
      "Position : Project Manager - Strategy & Operations Transformation Lead\n",
      "\n",
      "              Category       Id  Similarity\n",
      "                   BPO 79261033    0.770189\n",
      "  BUSINESS-DEVELOPMENT 61677751    0.763191\n",
      "            AUTOMOBILE 17510973    0.762861\n",
      "INFORMATION-TECHNOLOGY 24230851    0.760131\n",
      "              ADVOCATE 47133747    0.756660\n",
      "\n",
      "Company : Brooklyn Public Library\n",
      "Position : Systems Administrator\n",
      "\n",
      "   Category       Id  Similarity\n",
      " HEALTHCARE 98300955    0.833701\n",
      "   DESIGNER 44185767    0.830179\n",
      " CONSULTANT 30863060    0.826808\n",
      "AGRICULTURE 62994611    0.824428\n",
      "ENGINEERING 12011623    0.822106\n",
      "\n",
      "Company : DGA Security   New York, NY   Hybrid\n",
      "Position : Business Development Manager\n",
      "\n",
      "            Category       Id  Similarity\n",
      "             BANKING 11842348    0.829724\n",
      "BUSINESS-DEVELOPMENT 36170003    0.823226\n",
      "             BANKING 10329506    0.816205\n",
      "               SALES 79376680    0.810889\n",
      "       DIGITAL-MEDIA 62700506    0.809008\n",
      "\n",
      "Company : Ascend Innovations\n",
      "Position : CEO, Positivly\n",
      "\n",
      "            Category       Id  Similarity\n",
      "          CONSULTANT 88907739    0.843423\n",
      "       DIGITAL-MEDIA 50219114    0.842004\n",
      "         ENGINEERING 13264796    0.841895\n",
      "          CONSULTANT 26167298    0.841441\n",
      "BUSINESS-DEVELOPMENT 35673335    0.839999\n",
      "\n",
      "Company : Owner Actions\n",
      "Position : Digital Marketing Specialist\n",
      "\n",
      "     Category       Id  Similarity\n",
      "DIGITAL-MEDIA 90685127    0.795485\n",
      "DIGITAL-MEDIA 18927233    0.793909\n",
      "DIGITAL-MEDIA 33893326    0.785665\n",
      "   HEALTHCARE 47996197    0.784102\n",
      "DIGITAL-MEDIA 50219114    0.783550\n",
      "\n"
     ]
    }
   ],
   "source": [
    "# Cosine Similarity\n",
    "\n",
    "from sklearn.metrics.pairwise import cosine_similarity\n",
    "\n",
    "for index in range(job.shape[0]):\n",
    "    \n",
    "    # Compute Cosine Similarity\n",
    "    similarity = np.array([cosine_similarity(job[\"Embedding\"][index], resume[\"Embedding\"][resume_index])[0][0] for resume_index in range(resume.shape[0])])\n",
    "    \n",
    "    # Retrieve Top 5 Resumes\n",
    "    top_5_resume_index = np.argsort(similarity)[:-6:-1]\n",
    "    top_5_resume = resume.iloc[top_5_resume_index].head()\n",
    "    top_5_resume[\"Similarity\"] = np.sort(similarity)[:-6:-1]\n",
    "    \n",
    "    # Display\n",
    "    print(\"Company :\", job[\"company_name\"][index])\n",
    "    print(\"Position :\", job[\"position_title\"][index], end=\"\\n\\n\")\n",
    "    print(top_5_resume[[\"Category\", \"Id\", \"Similarity\"]].to_string(index=False), end=\"\\n\\n\")"
   ]
  },
  {
   "cell_type": "markdown",
   "id": "b5c81fbb",
   "metadata": {},
   "source": [
    "#### Note\n",
    "\n",
    "- I initially thought of reducing the search space by filtering resumes based on categories with the help of job positions. However, it would have been a blunder if I had implemented it. \n",
    "- For example, in the case of Company: Lear Corporation and Position: Customer Service Representative, the top resumes are from healthcare, automobile, and fitness backgrounds."
   ]
  },
  {
   "cell_type": "code",
   "execution_count": 22,
   "id": "55ba2ba7",
   "metadata": {
    "scrolled": false
   },
   "outputs": [
    {
     "name": "stdout",
     "output_type": "stream",
     "text": [
      "Lear Corporation, Role : Customer Service Representative\n",
      "\n",
      "['core responsibilities responding promptly customer inquiries communicating customers various channels acknowledging resolving customer complaints processing orders forms applications requests keeping records customer interactions transactions comments complaints communicating coordinating colleagues necessary providing feedback efficiency customer service process managing team junior customer service representatives ensuring customer satisfaction providing professional customer support required skills ability stay calm customers stressed upset comfortable using computers experience working customer support educational requirements high school diploma general education degree equivalent experience level na ']\n",
      "\n",
      "      Id   Category\n",
      "34594746 HEALTHCARE\n",
      "\n",
      "[' responsibilities position responsibilities outlined way construed encompassing  duties  responsibilities  qualifications may required andor assigned necessary  skill audit recovery specialist summary proficient highly skilled customer support specialist years experience seeking use extensive background customer relations  collections sales intermediatelevel position future advancement  company name city  state customer service representative  sales agent 032013 052014 uses strong communication listening skills handle customer inquiries  skills accomplishments trained hippa  fdcpa  medical terminolgy  call center service operations  multi phonemulti monitor use  complaint handlingdispute resolution  records management  10key  account management  active learning  calendaring  client relations  computer proficiency  coordination  creative problem solving  critical thinking  customer needs assessment  customer service  sales  insurance  collections  data collection  data entry  documentation  email  executive management support  filing  grammar  internet research  report transcription  research  scheduling  service orientation  speaking  spreadsheets  telephone skills  time management  typing  vendor management  writing  letters memos  lotus notes  minute taking  multitask management  organizational skills  prioritization  proofreading  reading comprehension  computer skills microsoft office suite  microsoft excel  microsoft word  microsoft outlook  microsoft powerpoint  windows  peoplesoft  visualcontent manager  mainframe  clarify  as400  epic  sap  type 45 wpm  education education training business management 2018 prairie state college  city  state high school diploma  general studies 2012 harlan community academy highschool  city  state experience experience company name city  state audit recovery specialist 012016 current review  investigate  analyze  resolve key issues provider client level  serve resource subject matter expert less experienced staff ']\n",
      "\n"
     ]
    }
   ],
   "source": [
    "print(\"Lear Corporation, Role : Customer Service Representative\", end=\"\\n\\n\")\n",
    "print(job[job[\"company_name\"] == \"Lear Corporation\"][\"Processed_Feature\"].values, end=\"\\n\\n\")\n",
    "\n",
    "print(resume_df[resume_df[\"Id\"] == 34594746][[\"Id\", \"Category\"]].to_string(index=False), end=\"\\n\\n\")\n",
    "print(resume_df[resume_df[\"Id\"] == 34594746][\"Processed_Feature\"].values, end=\"\\n\\n\")"
   ]
  },
  {
   "cell_type": "markdown",
   "id": "637fdc44",
   "metadata": {},
   "source": [
    "### Model : all-mpnet-base-v2\n",
    "- https://huggingface.co/sentence-transformers/all-mpnet-base-v2"
   ]
  },
  {
   "cell_type": "code",
   "execution_count": 23,
   "id": "c3641a93",
   "metadata": {},
   "outputs": [],
   "source": [
    "# New DataFrame\n",
    "\n",
    "resume = resume_df[[\"Id\", \"Category\", \"Processed_Feature\"]]\n",
    "job = job_df[[\"company_name\", \"position_title\", \"Processed_Feature\"]]"
   ]
  },
  {
   "cell_type": "code",
   "execution_count": 24,
   "id": "0adf31af",
   "metadata": {},
   "outputs": [
    {
     "name": "stdout",
     "output_type": "stream",
     "text": [
      "SentenceTransformer(\n",
      "  (0): Transformer({'max_seq_length': 512, 'do_lower_case': False}) with Transformer model: MPNetModel \n",
      "  (1): Pooling({'word_embedding_dimension': 768, 'pooling_mode_cls_token': False, 'pooling_mode_mean_tokens': True, 'pooling_mode_max_tokens': False, 'pooling_mode_mean_sqrt_len_tokens': False})\n",
      "  (2): Normalize()\n",
      ")\n"
     ]
    }
   ],
   "source": [
    "from sentence_transformers import SentenceTransformer\n",
    "\n",
    "model  = SentenceTransformer(\"all-mpnet-base-v2\")\n",
    "model.max_seq_length = 512\n",
    "print(model)"
   ]
  },
  {
   "cell_type": "code",
   "execution_count": 25,
   "id": "05f6766c",
   "metadata": {},
   "outputs": [
    {
     "name": "stderr",
     "output_type": "stream",
     "text": [
      "<timed exec>:3: SettingWithCopyWarning: \n",
      "A value is trying to be set on a copy of a slice from a DataFrame.\n",
      "Try using .loc[row_indexer,col_indexer] = value instead\n",
      "\n",
      "See the caveats in the documentation: https://pandas.pydata.org/pandas-docs/stable/user_guide/indexing.html#returning-a-view-versus-a-copy\n",
      "<timed exec>:4: SettingWithCopyWarning: \n",
      "A value is trying to be set on a copy of a slice from a DataFrame.\n",
      "Try using .loc[row_indexer,col_indexer] = value instead\n",
      "\n",
      "See the caveats in the documentation: https://pandas.pydata.org/pandas-docs/stable/user_guide/indexing.html#returning-a-view-versus-a-copy\n"
     ]
    },
    {
     "name": "stdout",
     "output_type": "stream",
     "text": [
      "CPU times: total: 51.2 s\n",
      "Wall time: 1min 11s\n"
     ]
    }
   ],
   "source": [
    "%%time\n",
    "# Apply Embeddings\n",
    "\n",
    "resume[\"Embedding\"] = resume[\"Processed_Feature\"].apply(lambda x : model.encode(x).reshape(1, -1))\n",
    "job[\"Embedding\"] = job[\"Processed_Feature\"].apply(lambda x : model.encode(x).reshape(1, -1))"
   ]
  },
  {
   "cell_type": "code",
   "execution_count": 26,
   "id": "8ba67cd4",
   "metadata": {},
   "outputs": [
    {
     "name": "stdout",
     "output_type": "stream",
     "text": [
      "Company : HCA Healthcare\n",
      "Position : Registrar\n",
      "\n",
      "  Category       Id  Similarity\n",
      "  ADVOCATE 20544228    0.698301\n",
      "  ADVOCATE 13342150    0.683802\n",
      "HEALTHCARE 33803142    0.676823\n",
      "      ARTS 38115035    0.664016\n",
      "HEALTHCARE 10568183    0.659261\n",
      "\n",
      "Company : Major League Baseball\n",
      "Position : Live Content Creator (Seasonal)\n",
      "\n",
      "        Category       Id  Similarity\n",
      "   DIGITAL-MEDIA 19444529    0.629020\n",
      "   DIGITAL-MEDIA 40311088    0.616245\n",
      "PUBLIC-RELATIONS 98086373    0.612260\n",
      "   DIGITAL-MEDIA 29915354    0.600370\n",
      "         FITNESS 12019284    0.595799\n",
      "\n",
      "Company : Teaneck Public Schools\n",
      "Position : Art Teacher\n",
      "\n",
      "Category       Id  Similarity\n",
      "    ARTS 12386670    0.633650\n",
      "    ARTS 78107631    0.622798\n",
      "    ARTS 11555549    0.606932\n",
      " TEACHER 33704389    0.603569\n",
      "    CHEF 12155206    0.598780\n",
      "\n",
      "Company : Volt\n",
      "Position : Talent Acquisition Specialist / Recruiter\n",
      "\n",
      "  Category       Id  Similarity\n",
      "        HR 30862904    0.809733\n",
      "HEALTHCARE 17864043    0.777453\n",
      "        HR 19179079    0.765547\n",
      "        HR 18297650    0.763960\n",
      "        HR 17412079    0.744991\n",
      "\n",
      "Company : Lear Corporation\n",
      "Position : Customer Service Representative\n",
      "\n",
      "  Category       Id  Similarity\n",
      "HEALTHCARE 34594746    0.689355\n",
      "HEALTHCARE 36861863    0.674718\n",
      "     SALES 15620421    0.669045\n",
      "   FITNESS 62870550    0.667289\n",
      "  DESIGNER 32954522    0.664544\n",
      "\n",
      "Company : Sunrise Systems Inc\n",
      "Position : Project Manager - Strategy & Operations Transformation Lead\n",
      "\n",
      "            Category       Id  Similarity\n",
      "         ENGINEERING 21038022    0.732159\n",
      "BUSINESS-DEVELOPMENT 26581830    0.722763\n",
      "            AVIATION 19818707    0.717623\n",
      "                 BPO 16492045    0.715731\n",
      "BUSINESS-DEVELOPMENT 16846478    0.710963\n",
      "\n",
      "Company : Brooklyn Public Library\n",
      "Position : Systems Administrator\n",
      "\n",
      "            Category       Id  Similarity\n",
      "             BANKING 18457785    0.796158\n",
      "        CONSTRUCTION 12890045    0.788632\n",
      "BUSINESS-DEVELOPMENT 28337049    0.787188\n",
      "               SALES 36904300    0.783097\n",
      "          HEALTHCARE 34594746    0.781238\n",
      "\n",
      "Company : DGA Security   New York, NY   Hybrid\n",
      "Position : Business Development Manager\n",
      "\n",
      "            Category       Id  Similarity\n",
      "BUSINESS-DEVELOPMENT 36170003    0.744628\n",
      "               SALES 10724818    0.732984\n",
      "               SALES 15581242    0.708154\n",
      "       DIGITAL-MEDIA 18900722    0.704647\n",
      "             BANKING 13173522    0.702862\n",
      "\n",
      "Company : Ascend Innovations\n",
      "Position : CEO, Positivly\n",
      "\n",
      "              Category       Id  Similarity\n",
      "            CONSULTANT 56792999    0.744241\n",
      "  BUSINESS-DEVELOPMENT 95382114    0.742028\n",
      "INFORMATION-TECHNOLOGY 17681064    0.741529\n",
      "            CONSULTANT 26919036    0.740361\n",
      "         DIGITAL-MEDIA 30864828    0.737805\n",
      "\n",
      "Company : Owner Actions\n",
      "Position : Digital Marketing Specialist\n",
      "\n",
      "        Category       Id  Similarity\n",
      "   DIGITAL-MEDIA 18927233    0.728045\n",
      "   DIGITAL-MEDIA 20628003    0.704539\n",
      "      HEALTHCARE 47996197    0.684669\n",
      "   DIGITAL-MEDIA 12085736    0.676591\n",
      "PUBLIC-RELATIONS 12545844    0.667947\n",
      "\n"
     ]
    }
   ],
   "source": [
    "# Cosine Similarity\n",
    "\n",
    "from sklearn.metrics.pairwise import cosine_similarity\n",
    "\n",
    "for index in range(job.shape[0]):\n",
    "    \n",
    "    # Compute Cosine Similarity\n",
    "    similarity = np.array([cosine_similarity(job[\"Embedding\"][index], resume[\"Embedding\"][resume_index])[0][0] for resume_index in range(resume.shape[0])])\n",
    "    \n",
    "    # Retrieve Top 5 Resumes\n",
    "    top_5_resume_index = np.argsort(similarity)[:-6:-1]\n",
    "    top_5_resume = resume.iloc[top_5_resume_index].head()\n",
    "    top_5_resume[\"Similarity\"] = np.sort(similarity)[:-6:-1]\n",
    "    \n",
    "    # Display\n",
    "    print(\"Company :\", job[\"company_name\"][index])\n",
    "    print(\"Position :\", job[\"position_title\"][index], end=\"\\n\\n\")\n",
    "    print(top_5_resume[[\"Category\", \"Id\", \"Similarity\"]].to_string(index=False), end=\"\\n\\n\")"
   ]
  },
  {
   "cell_type": "markdown",
   "id": "578024cd",
   "metadata": {},
   "source": [
    "### Model : all-MiniLM-L12-v2\n",
    "- https://huggingface.co/sentence-transformers/all-MiniLM-L12-v2"
   ]
  },
  {
   "cell_type": "code",
   "execution_count": 27,
   "id": "ba32fefb",
   "metadata": {},
   "outputs": [],
   "source": [
    "# New DataFrame\n",
    "\n",
    "resume = resume_df[[\"Id\", \"Category\", \"Processed_Feature\"]]\n",
    "job = job_df[[\"company_name\", \"position_title\", \"Processed_Feature\"]]"
   ]
  },
  {
   "cell_type": "code",
   "execution_count": 28,
   "id": "52f2e68b",
   "metadata": {},
   "outputs": [
    {
     "name": "stdout",
     "output_type": "stream",
     "text": [
      "SentenceTransformer(\n",
      "  (0): Transformer({'max_seq_length': 512, 'do_lower_case': False}) with Transformer model: BertModel \n",
      "  (1): Pooling({'word_embedding_dimension': 384, 'pooling_mode_cls_token': False, 'pooling_mode_mean_tokens': True, 'pooling_mode_max_tokens': False, 'pooling_mode_mean_sqrt_len_tokens': False})\n",
      "  (2): Normalize()\n",
      ")\n"
     ]
    }
   ],
   "source": [
    "from sentence_transformers import SentenceTransformer\n",
    "\n",
    "model  = SentenceTransformer(\"all-MiniLM-L12-v2\")\n",
    "model.max_seq_length = 512\n",
    "print(model)"
   ]
  },
  {
   "cell_type": "code",
   "execution_count": 29,
   "id": "152c8914",
   "metadata": {},
   "outputs": [
    {
     "name": "stdout",
     "output_type": "stream",
     "text": [
      "CPU times: total: 28.3 s\n",
      "Wall time: 43.1 s\n"
     ]
    },
    {
     "name": "stderr",
     "output_type": "stream",
     "text": [
      "<timed exec>:3: SettingWithCopyWarning: \n",
      "A value is trying to be set on a copy of a slice from a DataFrame.\n",
      "Try using .loc[row_indexer,col_indexer] = value instead\n",
      "\n",
      "See the caveats in the documentation: https://pandas.pydata.org/pandas-docs/stable/user_guide/indexing.html#returning-a-view-versus-a-copy\n",
      "<timed exec>:4: SettingWithCopyWarning: \n",
      "A value is trying to be set on a copy of a slice from a DataFrame.\n",
      "Try using .loc[row_indexer,col_indexer] = value instead\n",
      "\n",
      "See the caveats in the documentation: https://pandas.pydata.org/pandas-docs/stable/user_guide/indexing.html#returning-a-view-versus-a-copy\n"
     ]
    }
   ],
   "source": [
    "%%time\n",
    "# Apply Embeddings\n",
    "\n",
    "resume[\"Embedding\"] = resume[\"Processed_Feature\"].apply(lambda x : model.encode(x).reshape(1, -1))\n",
    "job[\"Embedding\"] = job[\"Processed_Feature\"].apply(lambda x : model.encode(x).reshape(1, -1))"
   ]
  },
  {
   "cell_type": "code",
   "execution_count": 30,
   "id": "9db895cd",
   "metadata": {},
   "outputs": [
    {
     "name": "stdout",
     "output_type": "stream",
     "text": [
      "Company : HCA Healthcare\n",
      "Position : Registrar\n",
      "\n",
      "  Category       Id  Similarity\n",
      "   FITNESS 15932017    0.705378\n",
      "  ADVOCATE 12544735    0.702153\n",
      "   FITNESS 10969918    0.677800\n",
      "  ADVOCATE 13342150    0.673177\n",
      "HEALTHCARE 25834360    0.663054\n",
      "\n",
      "Company : Major League Baseball\n",
      "Position : Live Content Creator (Seasonal)\n",
      "\n",
      "     Category       Id  Similarity\n",
      "      FITNESS 27903191    0.663730\n",
      "DIGITAL-MEDIA 29915354    0.661354\n",
      "      FITNESS 19975121    0.654657\n",
      "DIGITAL-MEDIA 19444529    0.646088\n",
      "DIGITAL-MEDIA 28109594    0.638440\n",
      "\n",
      "Company : Teaneck Public Schools\n",
      "Position : Art Teacher\n",
      "\n",
      "     Category       Id  Similarity\n",
      "DIGITAL-MEDIA 14761906    0.624654\n",
      "      TEACHER 90363254    0.612468\n",
      "     DESIGNER 62312955    0.608341\n",
      "         ARTS 31273413    0.606782\n",
      "      TEACHER 20230207    0.602979\n",
      "\n",
      "Company : Volt\n",
      "Position : Talent Acquisition Specialist / Recruiter\n",
      "\n",
      "  Category       Id  Similarity\n",
      "        HR 30862904    0.741534\n",
      "HEALTHCARE 17864043    0.710526\n",
      "        HR 19179079    0.703621\n",
      "        HR 46258701    0.703336\n",
      "AUTOMOBILE 23522150    0.701682\n",
      "\n",
      "Company : Lear Corporation\n",
      "Position : Customer Service Representative\n",
      "\n",
      "Category       Id  Similarity\n",
      " FITNESS 24905947    0.751541\n",
      "   SALES 29332616    0.736014\n",
      " APPAREL 72807293    0.731834\n",
      " FITNESS 62870550    0.725053\n",
      "   SALES 15620421    0.720528\n",
      "\n",
      "Company : Sunrise Systems Inc\n",
      "Position : Project Manager - Strategy & Operations Transformation Lead\n",
      "\n",
      "   Category       Id  Similarity\n",
      "       ARTS 25157655    0.749364\n",
      "    FINANCE 48285304    0.736101\n",
      "    BANKING 18457785    0.732015\n",
      "ENGINEERING 32081266    0.727590\n",
      "   ADVOCATE 11963737    0.718874\n",
      "\n",
      "Company : Brooklyn Public Library\n",
      "Position : Systems Administrator\n",
      "\n",
      "   Category       Id  Similarity\n",
      "    BANKING 21297521    0.807730\n",
      "    BANKING 98348532    0.782326\n",
      "ENGINEERING 12472574    0.781235\n",
      " CONSULTANT 31217840    0.764054\n",
      "    FINANCE 27330027    0.758075\n",
      "\n",
      "Company : DGA Security   New York, NY   Hybrid\n",
      "Position : Business Development Manager\n",
      "\n",
      "            Category       Id  Similarity\n",
      "BUSINESS-DEVELOPMENT 27139412    0.756505\n",
      "BUSINESS-DEVELOPMENT 27937592    0.748482\n",
      "       DIGITAL-MEDIA 14945250    0.740209\n",
      "             APPAREL 72807293    0.739141\n",
      "             FITNESS 24905947    0.739046\n",
      "\n",
      "Company : Ascend Innovations\n",
      "Position : CEO, Positivly\n",
      "\n",
      "            Category       Id  Similarity\n",
      "         ENGINEERING 32081266    0.781613\n",
      "             BANKING 18457785    0.778774\n",
      "            ADVOCATE 11963737    0.765533\n",
      "BUSINESS-DEVELOPMENT 10704573    0.757282\n",
      "            DESIGNER 29865476    0.754782\n",
      "\n",
      "Company : Owner Actions\n",
      "Position : Digital Marketing Specialist\n",
      "\n",
      "            Category       Id  Similarity\n",
      "          HEALTHCARE 47996197    0.790444\n",
      "       DIGITAL-MEDIA 20628003    0.764259\n",
      "       DIGITAL-MEDIA 18927233    0.758789\n",
      "BUSINESS-DEVELOPMENT 15423153    0.731818\n",
      "BUSINESS-DEVELOPMENT 27937592    0.720721\n",
      "\n"
     ]
    }
   ],
   "source": [
    "# Cosine Similarity\n",
    "\n",
    "from sklearn.metrics.pairwise import cosine_similarity\n",
    "\n",
    "for index in range(job.shape[0]):\n",
    "    \n",
    "    # Compute Cosine Similarity\n",
    "    similarity = np.array([cosine_similarity(job[\"Embedding\"][index], resume[\"Embedding\"][resume_index])[0][0] for resume_index in range(resume.shape[0])])\n",
    "    \n",
    "    # Retrieve Top 5 Resumes\n",
    "    top_5_resume_index = np.argsort(similarity)[:-6:-1]\n",
    "    top_5_resume = resume.iloc[top_5_resume_index].head()\n",
    "    top_5_resume[\"Similarity\"] = np.sort(similarity)[:-6:-1]\n",
    "    \n",
    "    # Display\n",
    "    print(\"Company :\", job[\"company_name\"][index])\n",
    "    print(\"Position :\", job[\"position_title\"][index], end=\"\\n\\n\")\n",
    "    print(top_5_resume[[\"Category\", \"Id\", \"Similarity\"]].to_string(index=False), end=\"\\n\\n\")"
   ]
  }
 ],
 "metadata": {
  "kernelspec": {
   "display_name": "Python 3 (ipykernel)",
   "language": "python",
   "name": "python3"
  },
  "language_info": {
   "codemirror_mode": {
    "name": "ipython",
    "version": 3
   },
   "file_extension": ".py",
   "mimetype": "text/x-python",
   "name": "python",
   "nbconvert_exporter": "python",
   "pygments_lexer": "ipython3",
   "version": "3.11.1"
  }
 },
 "nbformat": 4,
 "nbformat_minor": 5
}
